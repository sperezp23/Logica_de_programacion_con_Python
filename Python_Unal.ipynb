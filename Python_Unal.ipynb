{
  "nbformat": 4,
  "nbformat_minor": 0,
  "metadata": {
    "colab": {
      "provenance": [],
      "authorship_tag": "ABX9TyOKxia1JjqDneAEcq+/Deou",
      "include_colab_link": true
    },
    "kernelspec": {
      "name": "python3",
      "display_name": "Python 3"
    },
    "language_info": {
      "name": "python"
    }
  },
  "cells": [
    {
      "cell_type": "markdown",
      "metadata": {
        "id": "view-in-github",
        "colab_type": "text"
      },
      "source": [
        "<a href=\"https://colab.research.google.com/github/sperezp23/Logica_de_programacion_con_Python/blob/master/Python_Unal.ipynb\" target=\"_parent\"><img src=\"https://colab.research.google.com/assets/colab-badge.svg\" alt=\"Open In Colab\"/></a>"
      ]
    },
    {
      "cell_type": "code",
      "source": [
        "# Cadenas de texto\n",
        "nombre = input('Ingresa tu nombre:\\n')\n",
        "print(f'¡Hola {nombre}!')"
      ],
      "metadata": {
        "colab": {
          "base_uri": "https://localhost:8080/"
        },
        "id": "4wrcvBCJ2vLi",
        "outputId": "7c87408f-390d-4e54-d325-eaa6d8e7bcd6"
      },
      "execution_count": null,
      "outputs": [
        {
          "output_type": "stream",
          "name": "stdout",
          "text": [
            "Ingresa tu nombre:\n",
            "Santiago\n",
            "¡Hola Santiago!\n"
          ]
        }
      ]
    },
    {
      "cell_type": "code",
      "execution_count": null,
      "metadata": {
        "colab": {
          "base_uri": "https://localhost:8080/"
        },
        "id": "WB2im5AluUrO",
        "outputId": "771a7438-5706-4c4d-db26-db4145385b6b"
      },
      "outputs": [
        {
          "output_type": "stream",
          "name": "stdout",
          "text": [
            "HOOOLA MUNDOOO!!!!!\n"
          ]
        }
      ],
      "source": [
        "# %% Manejo de variables, valores de tipo cadena de texto y la ejecución de métodos\n",
        "# cadena = input()\n",
        "cadena = \"hola mundo\"\n",
        "cadena = cadena.upper()\n",
        "cadena = cadena.replace(\"O\",\"OOO\")\n",
        "cadena +=\"!!!!!\"\n",
        "print(cadena)"
      ]
    },
    {
      "cell_type": "code",
      "source": [
        "# %% Práctica: operadores numéricos\n",
        "total_estudiantes = int(input(\"Numero de estudiantes:\\n\"))\n",
        "estudiantes_grupo = int(input(\"Estudiantes por grupo:\\n\"))\n",
        "\n",
        "total_grupos = total_estudiantes // estudiantes_grupo\n",
        "total_calificadores = total_estudiantes % estudiantes_grupo\n",
        "total_reportes  = total_calificadores * total_grupos\n",
        "\n",
        "print(\"Numero de grupos: {0}\\nNumero de reportes: {1}\".format(total_grupos,total_reportes))"
      ],
      "metadata": {
        "colab": {
          "base_uri": "https://localhost:8080/"
        },
        "id": "1aSUTjcdw3kR",
        "outputId": "22da0b25-7eb9-4804-f446-ad1c70be32bf"
      },
      "execution_count": null,
      "outputs": [
        {
          "output_type": "stream",
          "name": "stdout",
          "text": [
            "Numero de estudiantes:\n",
            "16\n",
            "Estudiantes por grupo:\n",
            "6\n",
            "Numero de grupos: 2\n",
            "Numero de reportes: 8\n"
          ]
        }
      ]
    },
    {
      "cell_type": "code",
      "source": [
        "# %% Tarea: ecuaciones físicas (Parte I)\n",
        "x0_metros = float(input('Ingrese el valor de x0 en [m]:\\n'))\n",
        "v0_metros_segundos = float(input('Ingrese el valor de v0 en [m/s]:\\n'))\n",
        "a_metros_segundos2 = float(input('Ingrese el valor de a en [m/s^2]:\\n'))\n",
        "t_segundos = float(input('Ingrese el valor de t en [s]:\\n'))\n",
        "\n",
        "x_metros = x0_metros + v0_metros_segundos * t_segundos +( 0.5 * a_metros_segundos2 * t_segundos ** 2 )\n",
        "\n",
        "print(f'La posición final es {x_metros:.2f} metros.')"
      ],
      "metadata": {
        "colab": {
          "base_uri": "https://localhost:8080/"
        },
        "id": "_TtY_CHa1ld3",
        "outputId": "5212ea24-8bf3-4e8b-923f-40055d7a73f0"
      },
      "execution_count": null,
      "outputs": [
        {
          "output_type": "stream",
          "name": "stdout",
          "text": [
            "Ingrese el valor de x0 en [m]:\n",
            "100\n",
            "Ingrese el valor de v0 en [m/s]:\n",
            "10\n",
            "Ingrese el valor de a en [m/s^2]:\n",
            "-9.8\n",
            "Ingrese el valor de t en [s]:\n",
            "10\n",
            "La posición final es -290.00 metros.\n"
          ]
        }
      ]
    },
    {
      "cell_type": "code",
      "source": [
        "# %% Tarea: ecuaciones físicas (Parte II)\n",
        "x0_metros = float(input('Ingrese el valor de x0 en [m]:\\n'))\n",
        "v0_km_segundos = float(input('Ingrese el valor de v0 en [km/s]:\\n'))\n",
        "a_metros_segundos2 = float(input('Ingrese el valor de a en [m/s^2]:\\n'))\n",
        "t_segundos = float(input('Ingrese el valor de t en [s]:\\n'))\n",
        "\n",
        "x = x0_metros + v0_km_segundos*t_segundos*0.277778 + (0.5*a_metros_segundos2*t_segundos**2)\n",
        "v = (v0_km_segundos*0.2777777778 + a_metros_segundos2*t_segundos)*3.6\n",
        "\n",
        "print(f'La posición final es de {x:.2f} m y la velocidad es de {v:.3f} km/h')"
      ],
      "metadata": {
        "colab": {
          "base_uri": "https://localhost:8080/"
        },
        "id": "KGjAPAC8G7HA",
        "outputId": "96ac6af1-dbc4-4c5e-ccef-3fd2ee5b7fb8"
      },
      "execution_count": null,
      "outputs": [
        {
          "output_type": "stream",
          "name": "stdout",
          "text": [
            "Ingrese el valor de x0 en [m]:\n",
            "100\n",
            "Ingrese el valor de v0 en [km/s]:\n",
            "10\n",
            "Ingrese el valor de a en [m/s^2]:\n",
            "-9.8\n",
            "Ingrese el valor de t en [s]:\n",
            "10\n",
            "La posición final es de -362.22 m y la velocidad es de -342.800 km/h\n"
          ]
        }
      ]
    },
    {
      "cell_type": "code",
      "source": [
        "# %% Problema: Cursores y áreas\n",
        "y = float(input('Ingrese el valor de la posición en x del rectangulo:\\n'))\n",
        "x = float(input('Ingrese el valor de la posición en y del rectangulo:\\n'))\n",
        "w = float(input('Ingrese el valor del Ancho de del rectangulo:\\n'))\n",
        "h = float(input('Ingrese el valor del Alto de del rectangulo:\\n'))\n",
        "px = float(input('Ingrese la coordenada de P_x del punto:\\n'))\n",
        "py = float(input('Ingrese la coordenada de P_y del punto:\\n'))\n",
        "\n",
        "if (x<=px<=x+w) and (y<=py<=y+h):\n",
        "  salida = f'El punto {px,py} se halla dentro del rectangulo de altura {h} y base {w}.'\n",
        "else:\n",
        "  salida = f'El punto {px,py} se halla fuera del rectangulo de altura {h} y base {w}.'\n",
        "\n",
        "print(salida)"
      ],
      "metadata": {
        "colab": {
          "base_uri": "https://localhost:8080/"
        },
        "id": "-ycTXZA35viC",
        "outputId": "00221969-6324-41dd-9839-45edbd05cf6e"
      },
      "execution_count": 6,
      "outputs": [
        {
          "output_type": "stream",
          "name": "stdout",
          "text": [
            "Ingrese el valor de la posición en x del rectangulo:\n",
            "10\n",
            "Ingrese el valor de la posición en y del rectangulo:\n",
            "10\n",
            "Ingrese el valor del Ancho de del rectangulo:\n",
            "100\n",
            "Ingrese el valor del Alto de del rectangulo:\n",
            "50\n",
            "Ingrese la coordenada de P_x del punto:\n",
            "25\n",
            "Ingrese la coordenada de P_y del punto:\n",
            "25\n",
            "El punto (25.0, 25.0) se halla dentro del rectangulo de altura 50.0 y base 100.0.\n"
          ]
        }
      ]
    },
    {
      "cell_type": "code",
      "source": [
        "# %% Año bisiesto\n",
        "a = int(input(\"Ingrese el valor del año que quiere comprovar si es bisiesto o no:\\n\"))\n",
        "\n",
        "if a%4 == 0:\n",
        "  if a%100 == 0:\n",
        "    if a%400 == 0:\n",
        "      print(a,\"es un año bisiesto\")\n",
        "    else:\n",
        "      print(a,\"no es un año bisiesto\")\n",
        "  else:\n",
        "    print(a,\"es un año bisiesto\")\n",
        "else:\n",
        "  print(a,\"no es un año bisiesto\")"
      ],
      "metadata": {
        "colab": {
          "base_uri": "https://localhost:8080/"
        },
        "id": "4a3vvfQ__u6t",
        "outputId": "dc3bff9b-2d8b-40fc-9eea-ff3690764348"
      },
      "execution_count": 7,
      "outputs": [
        {
          "output_type": "stream",
          "name": "stdout",
          "text": [
            "Ingrese el valor del año que quiere comprovar si es bisiesto o no:\n",
            "1537\n",
            "1537 no es un año bisiesto\n"
          ]
        }
      ]
    },
    {
      "cell_type": "code",
      "source": [
        "# %% Problema: Disco duro\n",
        "tamaño = float(input())\n",
        "\n",
        "capacidad = 1\n",
        "\n",
        "while tamaño > capacidad:\n",
        "    capacidad *=2\n",
        "\n",
        "print(f'La capacidad requerida es de {capacidad} GB.')"
      ],
      "metadata": {
        "colab": {
          "base_uri": "https://localhost:8080/"
        },
        "id": "73NywLTWA4Jd",
        "outputId": "78796aac-0a6f-454c-d4cd-ffd9cf50b6a5"
      },
      "execution_count": 8,
      "outputs": [
        {
          "output_type": "stream",
          "name": "stdout",
          "text": [
            "256.15\n",
            "La capacidad requerida es de 512 GB.\n"
          ]
        }
      ]
    },
    {
      "cell_type": "code",
      "source": [
        "# %% Calculo de PI\n",
        "n = int(input('Ingrese el valor de n:\\n')) # Un número entero, que representa el límite excluido de los enteros usados como denominador en la sumatoria.\n",
        "suma = 0\n",
        "denominador = 1\n",
        "i = 0\n",
        "\n",
        "if n % 2 == 0:\n",
        "  while denominador < n-1:\n",
        "    denominador = 2*i+1\n",
        "    suma += ((-1)**i)/denominador\n",
        "    i += 1\n",
        "else:\n",
        "  while denominador < n-2:\n",
        "    denominador = 2*i+1\n",
        "    suma += ((-1)**i)/denominador\n",
        "    i += 1\n",
        "\n",
        "pi = 4*suma\n",
        "\n",
        "print(f\"Con n = {n} Pi tiene un valor aproximado de: {pi:.10f}\")"
      ],
      "metadata": {
        "colab": {
          "base_uri": "https://localhost:8080/"
        },
        "id": "JtDB4Z9vDMxv",
        "outputId": "333f47df-0000-45b0-e6f6-beae9a499dd4"
      },
      "execution_count": 10,
      "outputs": [
        {
          "output_type": "stream",
          "name": "stdout",
          "text": [
            "Ingrese el valor de n:\n",
            "25615\n",
            "Con n = 25615 Pi tiene un valor aproximado de: 3.1416707359\n"
          ]
        }
      ]
    },
    {
      "cell_type": "code",
      "source": [
        "# %% Problema: Adivina el número (I)\n",
        "numero_secreto = int(input('Ingrese el numero secreto:\\n'))\n",
        "intentos = int(input('Ingrese el numero de intentos:\\n'))\n",
        "\n",
        "for i in range(intentos,0,-1):\n",
        "  numero_usuario = int(input())\n",
        "  print(f'Intentos restantes: {i}.')\n",
        "\n",
        "  if numero_usuario == numero_secreto:\n",
        "    print(f'¡Felicidades! El número ingresado es correcto.')\n",
        "    break\n",
        "\n",
        "  if numero_usuario != numero_secreto and i-1 != 0:\n",
        "    print('Respuesta incorrecta. Intente de nuevo.')\n",
        "\n",
        "  if i-1 == 0:\n",
        "    print(f'Se acabaron los intentos. El número correcto era {numero_secreto}.')\n",
        "\n",
        "print(f'Fin del juego. ¡Gracias por participar!')"
      ],
      "metadata": {
        "id": "01ujyp-tE4tM",
        "colab": {
          "base_uri": "https://localhost:8080/"
        },
        "outputId": "7c5ea35b-28a2-4005-81a9-31acabff8149"
      },
      "execution_count": 11,
      "outputs": [
        {
          "output_type": "stream",
          "name": "stdout",
          "text": [
            "Ingrese el numero secreto:\n",
            "7\n",
            "Ingrese el numero de intentos:\n",
            "3\n",
            "22\n",
            "Intentos restantes: 3.\n",
            "Respuesta incorrecta. Intente de nuevo.\n",
            "6\n",
            "Intentos restantes: 2.\n",
            "Respuesta incorrecta. Intente de nuevo.\n",
            "8\n",
            "Intentos restantes: 1.\n",
            "Se acabaron los intentos. El número correcto era 7.\n",
            "Fin del juego. ¡Gracias por participar!\n"
          ]
        }
      ]
    },
    {
      "cell_type": "code",
      "source": [
        "# %% Problema: Adivina el número (II)\n",
        "num = int(input('Numero secreto: '))\n",
        "intentos = int(input('Numero de intentos: '))\n",
        "\n",
        "print('Intervalo donde se puede encontrar el número secreto [minimo,maximo]')\n",
        "\n",
        "minimo = int(input('Valor mínimo: '))\n",
        "maximo = int(input('Valor máximo: '))\n",
        "\n",
        "print(f'¡Bienvenido! Por favor ingrese números entre {minimo} y {maximo} para ganar.')\n",
        "\n",
        "while intentos >=0:\n",
        "  if intentos == 0:\n",
        "    print(f'Se acabaron los intentos. El número correcto era {num}.')\n",
        "    break\n",
        "\n",
        "  print(f'Intentos restantes: {intentos}.')\n",
        "  numero_usuario = int(input())\n",
        "\n",
        "  if not (minimo <= numero_usuario <= maximo):\n",
        "    print(f'El número que ingresó no se encuentra en el rango de valores indicado. Intente nuevamente')\n",
        "    continue\n",
        "\n",
        "  if numero_usuario == num:\n",
        "    print(f'¡Felicidades! El número ingresado es correcto.')\n",
        "    break\n",
        "\n",
        "  elif (numero_usuario < num) and (intentos-1 != 0):\n",
        "    print(f'Respuesta incorrecta. El número que ingresó es menor que el número secreto.')\n",
        "\n",
        "  elif (numero_usuario > num)and (intentos-1 != 0):\n",
        "    print(f'Respuesta incorrecta. El número que ingresó es mayor que el número secreto.')\n",
        "\n",
        "  intentos -=1\n",
        "\n",
        "print(f'Fin del juego. ¡Gracias por participar!')"
      ],
      "metadata": {
        "colab": {
          "base_uri": "https://localhost:8080/"
        },
        "id": "oJXEV30vKPr9",
        "outputId": "de8dfe41-11bb-45f2-d623-a489795cb1a4"
      },
      "execution_count": 41,
      "outputs": [
        {
          "output_type": "stream",
          "name": "stdout",
          "text": [
            "Numero secreto: 10\n",
            "Numero de intentos: 3\n",
            "Intervalo donde se puede encontrar el número secreto [minimo,maximo]\n",
            "Valor mínimo: 0\n",
            "Valor máximo: 20\n",
            "¡Bienvenido! Por favor ingrese números entre 0 y 20 para ganar.\n",
            "Intentos restantes: 3.\n",
            "1\n",
            "Respuesta incorrecta. El número que ingresó es menor que el número secreto.\n",
            "Intentos restantes: 2.\n",
            "20\n",
            "Respuesta incorrecta. El número que ingresó es mayor que el número secreto.\n",
            "Intentos restantes: 1.\n",
            "10\n",
            "¡Felicidades! El número ingresado es correcto.\n",
            "Fin del juego. ¡Gracias por participar!\n"
          ]
        }
      ]
    },
    {
      "cell_type": "code",
      "source": [
        "# %% Problema: Representación numérica del color\n",
        "color = input('Ingrese el codigo Hexadecimal del color:\\n').replace('#','') # Cadena de texto que representa un color en formato hexadecimal\n",
        "\n",
        "r= int(color[0:2],16)\n",
        "g= int(color[2:4],16)\n",
        "b= int(color[4:6],16)\n",
        "\n",
        "print(f'Codigo rgb.\\nR: {r} G: {g} B: {b}')"
      ],
      "metadata": {
        "colab": {
          "base_uri": "https://localhost:8080/"
        },
        "id": "UX_tODy0MaB2",
        "outputId": "d5aa8df8-8437-4d63-e44d-bd8df43eae29"
      },
      "execution_count": 15,
      "outputs": [
        {
          "output_type": "stream",
          "name": "stdout",
          "text": [
            "Ingrese el codigo Hexadecimal del color:\n",
            "#6e00ff\n",
            "Codigo rgb\n",
            "R: 110 G: 0 B: 255\n"
          ]
        }
      ]
    },
    {
      "cell_type": "code",
      "source": [
        "#Producto Punto\n",
        "\n",
        "# vectores a operar\n",
        "vector_u = [int(elemento) for elemento in input().split(' ')]\n",
        "vector_v = [int(elemento) for elemento in input().split(' ')]\n",
        "\n",
        "\n",
        "# Cálculo del producto punto\n",
        "producto_punto = sum([u*v for u,v in zip(vector_u,vector_v)])\n",
        "\n",
        "# Salida del programa\n",
        "print(producto_punto)"
      ],
      "metadata": {
        "colab": {
          "base_uri": "https://localhost:8080/"
        },
        "id": "X1HC47_oPRUt",
        "outputId": "5284cb21-4a2e-44f4-ec41-1657fed19cd2"
      },
      "execution_count": 16,
      "outputs": [
        {
          "output_type": "stream",
          "name": "stdout",
          "text": [
            "-32 -4 -13 -36 -7\n",
            "-22 20 37 11 -38\n",
            "13\n"
          ]
        }
      ]
    },
    {
      "cell_type": "code",
      "source": [
        "# %% Problema: Votación\n",
        "\n",
        "# Entradas\n",
        "num_entradas = int(input('Ingrese el numero de votos totales:\\n'))\n",
        "votos = [input() for i in range(num_entradas)]\n",
        "\n",
        "# Declaración de contadores\n",
        "contador_votos = {candidato:0 for candidato in set(votos)}\n",
        "\n",
        "# Obtener los votos e ir sumando según corresponda\n",
        "for voto in votos:\n",
        "  contador_votos[voto] += 1\n",
        "\n",
        "# Definir resultado\n",
        "ganadores = []\n",
        "mas_votado = max(contador_votos.values())\n",
        "\n",
        "for key,value in contador_votos.items():\n",
        "  if value == mas_votado:\n",
        "    ganadores.append(key)\n",
        "\n",
        "# Salida del programa (~ 1 línea).\n",
        "if len(ganadores) >=2:\n",
        "  print('EMPATE')\n",
        "\n",
        "else:\n",
        "  print(ganadores[0])"
      ],
      "metadata": {
        "colab": {
          "base_uri": "https://localhost:8080/"
        },
        "id": "rXpkSK62PzBI",
        "outputId": "d896326f-e9d9-44cf-fae1-3131cd527a17"
      },
      "execution_count": 51,
      "outputs": [
        {
          "output_type": "stream",
          "name": "stdout",
          "text": [
            "Ingrese el numero de votos totales:\n",
            "5\n",
            "Juan\n",
            "María\n",
            "Pedro\n",
            "María\n",
            "Juan\n",
            "EMPATE\n"
          ]
        }
      ]
    },
    {
      "cell_type": "code",
      "source": [
        "# %% Problema: Semejanza de textos\n",
        "print('Comparador de textos.')# Cuenta las palabras comunes entre dos textos.\n",
        "listado_a = set(input('Ingrese el texto 1:\\n').split())\n",
        "listado_b = set(input('Ingrese el texto 2:\\n').split())\n",
        "\n",
        "print(f'palabras compartidas {len(listado_a & listado_b)}')\n",
        "print(f'palabras unicas {len(listado_a ^ listado_b)}')"
      ],
      "metadata": {
        "colab": {
          "base_uri": "https://localhost:8080/"
        },
        "id": "BHNIXTX2YPqw",
        "outputId": "302a538a-bca0-4a65-e85c-1373dee562ef"
      },
      "execution_count": 53,
      "outputs": [
        {
          "output_type": "stream",
          "name": "stdout",
          "text": [
            "Comparador de textos.\n",
            "Ingrese el texto 1:\n",
            "Bello es mejor que feo\n",
            "Ingrese el texto 2:\n",
            "Explícito es mejor que implícito\n",
            "palabras compartidas 3\n",
            "palabras unicas 4\n"
          ]
        }
      ]
    },
    {
      "cell_type": "code",
      "source": [
        "# %% Problema: Listas de reproducción (I)\n",
        "\n",
        "# Declaración de variables\n",
        "comandos = ['añadir','reproducir','detener']\n",
        "play_list = {}\n",
        "\n",
        "# Entradas\n",
        "while True:\n",
        "  entrada = input(f'Ingrese un comando para continuar:{comandos}:\\n')\n",
        "\n",
        "  while True:\n",
        "    if entrada not in comandos:\n",
        "      print('Comando no reconocido. Intente de nuevo:')\n",
        "      entrada = input(f'Ingrese un comando para continuar:{comandos}:\\n')\n",
        "    else:\n",
        "      break\n",
        "\n",
        "# Añadir\n",
        "  if entrada == comandos[0]:\n",
        "    cancion = input('Nombre de la canción:\\n')\n",
        "    artista = input('Nombre del artista:\\n')\n",
        "\n",
        "    if artista not in play_list.keys():\n",
        "      play_list[artista] = []\n",
        "      play_list[artista].append(cancion)\n",
        "    else:\n",
        "      play_list[artista].append(cancion)\n",
        "\n",
        "# Reproducir\n",
        "  elif entrada == comandos[1]:\n",
        "    artista = input('Nombre del artista:\\n')\n",
        "    artistas = play_list.keys()\n",
        "\n",
        "    if artista not in artistas:\n",
        "      print('El artista no tiene canciones registradas.')\n",
        "\n",
        "    else:\n",
        "      if len(play_list[artista]) > 0:\n",
        "        cancion = play_list[artista].pop(0)\n",
        "        print(f'Reproduciendo {cancion} de {artista}.')\n",
        "      else:\n",
        "        print('No quedan canciones en cola.')\n",
        "\n",
        "# Detener\n",
        "  elif entrada == comandos[2]:\n",
        "    print('Terminando la sesión. ¡Hasta pronto!')\n",
        "    break"
      ],
      "metadata": {
        "colab": {
          "base_uri": "https://localhost:8080/"
        },
        "id": "NKFz7QfZbor9",
        "outputId": "6042999b-3dc5-4de0-b03b-b5f56c5aaf31"
      },
      "execution_count": 57,
      "outputs": [
        {
          "output_type": "stream",
          "name": "stdout",
          "text": [
            "Ingrese un comando para continuar:['añadir', 'reproducir', 'detener']:\n",
            "añadir\n",
            "Nombre de la canción:\n",
            "Feel Good Inc.\n",
            "Nombre del artista:\n",
            "Gorrillaz\n",
            "Ingrese un comando para continuar:['añadir', 'reproducir', 'detener']:\n",
            "reproducir\n",
            "Nombre del artista:\n",
            "gorillaz\n",
            "El artista no tiene canciones registradas.\n",
            "Ingrese un comando para continuar:['añadir', 'reproducir', 'detener']:\n",
            "Gorillaz\n",
            "Comando no reconocido. Intente de nuevo:\n",
            "Ingrese un comando para continuar:['añadir', 'reproducir', 'detener']:\n",
            "reproducir\n",
            "Nombre del artista:\n",
            "Gorillaz\n",
            "El artista no tiene canciones registradas.\n",
            "Ingrese un comando para continuar:['añadir', 'reproducir', 'detener']:\n",
            "ditinir\n",
            "Comando no reconocido. Intente de nuevo:\n",
            "Ingrese un comando para continuar:['añadir', 'reproducir', 'detener']:\n",
            "detener\n",
            "Terminando la sesión. ¡Hasta pronto!\n"
          ]
        }
      ]
    },
    {
      "cell_type": "code",
      "source": [
        "# %% Problema: Listas de reproducción (II)\n",
        "\n",
        "# Declaración de variables\n",
        "comandos = ['añadir','reproducir', 'listar','detener']\n",
        "play_list = {}\n",
        "i = 0\n",
        "\n",
        "# Entradas\n",
        "while True:\n",
        "  entrada = input(f'Ingrese un comando para continuar:{comandos}:\\n').lower()\n",
        "\n",
        "  while True:\n",
        "    if entrada not in comandos:\n",
        "      print('Comando no reconocido. Intente de nuevo:')\n",
        "      entrada = input(f'Ingrese un comando para continuar:{comandos}:\\n').lower()\n",
        "    else:\n",
        "      break\n",
        "\n",
        "# Añadir\n",
        "  if entrada == comandos[0]:\n",
        "    cancion = input('Nombre de la canción:\\n')\n",
        "    artista = input('Nombre del artista:\\n')\n",
        "\n",
        "    if artista not in play_list.keys():\n",
        "      play_list[artista] = []\n",
        "      play_list[artista].append(cancion)\n",
        "    else:\n",
        "      play_list[artista].append(cancion)\n",
        "\n",
        "# Reproducir\n",
        "  elif entrada == comandos[1]:\n",
        "    artista = input('Nombre del artista:\\n')\n",
        "    artistas = play_list.keys()\n",
        "\n",
        "    if artista not in artistas:\n",
        "      print('El artista no tiene canciones registradas.')\n",
        "\n",
        "    else:\n",
        "      while 0 <= i < len(play_list[artista]):\n",
        "        i += 1\n",
        "        cancion = play_list[artista].pop(0)\n",
        "        play_list[artista].append(cancion)\n",
        "        print(f'Reproduciendo {cancion} de {artista}.')\n",
        "\n",
        "      print('Fin de la lista.')\n",
        "\n",
        "# Listar\n",
        "  elif entrada == comandos[2]:\n",
        "    artista = input('Nombre del artista:\\n')\n",
        "    artistas = play_list.keys()\n",
        "\n",
        "    if artista not in artistas:\n",
        "      print('El artista no tiene canciones registradas.')\n",
        "\n",
        "    else:\n",
        "      print(f'Canciones registradas de {artista}')\n",
        "\n",
        "      canciones = enumerate(play_list[artista],1)\n",
        "\n",
        "      for indice,cancion in canciones:\n",
        "        print(f'{indice}. {cancion}')\n",
        "\n",
        "# Detener\n",
        "  elif entrada == comandos[3]:\n",
        "    print('Terminando la sesión.\\n¡Hasta pronto!')\n",
        "    break"
      ],
      "metadata": {
        "colab": {
          "base_uri": "https://localhost:8080/"
        },
        "id": "eTzpoYVCbuFq",
        "outputId": "0bea7b8c-2ddd-4b07-8b01-a9907127fdbf"
      },
      "execution_count": 70,
      "outputs": [
        {
          "output_type": "stream",
          "name": "stdout",
          "text": [
            "Ingrese un comando para continuar:['añadir', 'reproducir', 'listar', 'detener']:\n",
            "Añadir\n",
            "Nombre de la canción:\n",
            "Let it Be\n",
            "Nombre del artista:\n",
            "The Beatles.\n",
            "Ingrese un comando para continuar:['añadir', 'reproducir', 'listar', 'detener']:\n",
            "añadir\n",
            "Nombre de la canción:\n",
            "Yesterday\n",
            "Nombre del artista:\n",
            "The Beatles.\n",
            "Ingrese un comando para continuar:['añadir', 'reproducir', 'listar', 'detener']:\n",
            "Listar\n",
            "Nombre del artista:\n",
            "The Beatles.\n",
            "Canciones registradas de The Beatles.\n",
            "1. Let it Be\n",
            "2. Yesterday\n",
            "Ingrese un comando para continuar:['añadir', 'reproducir', 'listar', 'detener']:\n",
            "reproducir\n",
            "Nombre del artista:\n",
            "The Beatles.\n",
            "Reproduciendo Let it Be de The Beatles..\n",
            "Reproduciendo Yesterday de The Beatles..\n",
            "Ingrese un comando para continuar:['añadir', 'reproducir', 'listar', 'detener']:\n",
            "detener\n",
            "Terminando la sesión.\n",
            "¡Hasta pronto!\n"
          ]
        }
      ]
    }
  ]
}