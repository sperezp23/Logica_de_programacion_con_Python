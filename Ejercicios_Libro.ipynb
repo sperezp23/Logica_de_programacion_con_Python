{
  "nbformat": 4,
  "nbformat_minor": 0,
  "metadata": {
    "colab": {
      "provenance": [],
      "authorship_tag": "ABX9TyNlNXcNSAHcU4+yQv6qQmOq",
      "include_colab_link": true
    },
    "kernelspec": {
      "name": "python3",
      "display_name": "Python 3"
    },
    "language_info": {
      "name": "python"
    }
  },
  "cells": [
    {
      "cell_type": "markdown",
      "metadata": {
        "id": "view-in-github",
        "colab_type": "text"
      },
      "source": [
        "<a href=\"https://colab.research.google.com/github/sperezp23/Logica_de_programacion_con_Python/blob/master/Ejercicios_Libro.ipynb\" target=\"_parent\"><img src=\"https://colab.research.google.com/assets/colab-badge.svg\" alt=\"Open In Colab\"/></a>"
      ]
    },
    {
      "cell_type": "code",
      "execution_count": null,
      "metadata": {
        "id": "gxXMyFul9Be4"
      },
      "outputs": [],
      "source": [
        "# %% Resivir y sumar dos numeros complejos\n",
        "x = list(map(complex,input('Ingrese dos numero complejos para ser sumados(separados por espacio complex1 complex2):\\n').split()))\n",
        "print(sum(x))"
      ]
    },
    {
      "cell_type": "code",
      "source": [
        "# %% Nombre,Edad,Hijos\n",
        "l = [\"Omar\",54,2,\"Luis\",45,3,\"Juan\",39,1]\n",
        "print(\"Nombre\\tEdad\\tHijos\")\n",
        "\n",
        "for i in range(0,len(l)-2):\n",
        "  if i == 0 or i%3 == 0:\n",
        "    print(\"{0}\\t{1}\\t{2}\".format(l[i],l[i+1],l[i+2]))"
      ],
      "metadata": {
        "id": "lnDOWNv0Wpiv"
      },
      "execution_count": null,
      "outputs": []
    },
    {
      "cell_type": "code",
      "source": [
        "# %% Multiplos en un intervalo cualquiera optimizado\n",
        "print('Buscador de multiplos')\n",
        "x = list(map(int,input('Ingrese los limites del intervalo [a,b] con el formato: a b\\n').split()))\n",
        "n = int(input('Ingrese el valor de n\\n'))\n",
        "\n",
        "aux = []\n",
        "mul = 0\n",
        "i = 0\n",
        "\n",
        "while mul <= x[1]:\n",
        "  if ((x[0]+i)%n == 0) and ((x[0]+i)!=0):\n",
        "    mul = x[0]+i\n",
        "    aux = list(range(mul,x[1]+1,n))\n",
        "    break\n",
        "  else:\n",
        "    i+=1\n",
        "print(aux)"
      ],
      "metadata": {
        "id": "QnhCW-hqZfUT"
      },
      "execution_count": null,
      "outputs": []
    },
    {
      "cell_type": "code",
      "execution_count": null,
      "metadata": {
        "id": "teCd-4yuwf4J"
      },
      "outputs": [],
      "source": [
        "# %% Tablas de multiplicar\n",
        "n = int(input(\"Ingrese un numero entero para clacular su tabla de multiplicar\\n\"))\n",
        "\n",
        "for i in range(1,11):\n",
        "  print(\"{0}x{1}={2}\".format(n,i,n*i))"
      ]
    },
    {
      "cell_type": "code",
      "source": [
        "list(range(3,100,10))"
      ],
      "metadata": {
        "id": "x6wQop_5-6cr"
      },
      "execution_count": null,
      "outputs": []
    },
    {
      "cell_type": "code",
      "source": [
        "signo_sodiaco = input('Signo del sodiaco: ')\n",
        "edad = input(f'Edad: ')\n",
        "print(f'El nombre de tu cercesa es:\\n\\\"{signo_sodiaco} {edad}\\\"')"
      ],
      "metadata": {
        "id": "DhOFe-x-Gpo_"
      },
      "execution_count": null,
      "outputs": []
    }
  ]
}