{
  "nbformat": 4,
  "nbformat_minor": 0,
  "metadata": {
    "colab": {
      "provenance": [],
      "authorship_tag": "ABX9TyMMTb97TIJ8Unu6QfNscB0s",
      "include_colab_link": true
    },
    "kernelspec": {
      "name": "python3",
      "display_name": "Python 3"
    },
    "language_info": {
      "name": "python"
    }
  },
  "cells": [
    {
      "cell_type": "markdown",
      "metadata": {
        "id": "view-in-github",
        "colab_type": "text"
      },
      "source": [
        "<a href=\"https://colab.research.google.com/github/sperezp23/Logica_de_programacion_con_Python/blob/master/udea_ingenia.ipynb\" target=\"_parent\"><img src=\"https://colab.research.google.com/assets/colab-badge.svg\" alt=\"Open In Colab\"/></a>"
      ]
    },
    {
      "cell_type": "code",
      "execution_count": null,
      "metadata": {
        "id": "uJTRkWFg9Z9W"
      },
      "outputs": [],
      "source": [
        " def nota_final(nota1=3,nota2=3,nota3=3,final=3):\n",
        "\n",
        "  nota = (nota1*0.25)+(nota2*0.25)+(nota3*0.20)+(nota1*0.30)\n",
        "\n",
        "  print(f'{\"Aprobado\" if round(nota,1) >=3.0 else \"Reprobado\"}')\n",
        "\n",
        "nota_final(3,3,1,2)"
      ]
    },
    {
      "cell_type": "code",
      "source": [
        "num = int(input(\"Ingrese un numero entero positivo\\n\"))\n",
        "\n",
        "if num > 0:\n",
        "    i=1\n",
        "\n",
        "    while i <= num and i != 10:\n",
        "      if i % 5 == 0:\n",
        "        print(\"Divisible por 5\")\n",
        "      else:\n",
        "        print(i)\n",
        "\n",
        "      i+=1\n",
        "\n",
        "      if i == 10:\n",
        "        print(\"¡Encontraste el número mágico!\")\n",
        "else:\n",
        "    print(\"Número inválido\")"
      ],
      "metadata": {
        "id": "O69j2qpCHGYy"
      },
      "execution_count": null,
      "outputs": []
    },
    {
      "cell_type": "code",
      "source": [
        "def licuadora(fruta, liquido, hielo, azucar): #Funcion y argumentos esperados\n",
        "\n",
        "  if azucar:\n",
        "    aux1 = \"con azúcar\"\n",
        "  else:\n",
        "    aux1 = \"sin azúcar\"\n",
        "\n",
        "  if hielo:\n",
        "    aux2 = \"con hielo\"\n",
        "  else:\n",
        "    aux2 = \"sin hielo\"\n",
        "\n",
        "  bebida = f'Jugo de {fruta} en {liquido}, {aux1} y {aux2}'\n",
        "\n",
        "  return bebida   #return esperado\n",
        "\n",
        "print(licuadora('fresa','leche', True, False))"
      ],
      "metadata": {
        "id": "enPXGSFqO0hV"
      },
      "execution_count": null,
      "outputs": []
    },
    {
      "cell_type": "code",
      "source": [
        "def licuadora(fruta, liquido, hielo, azucar): #Funcion y argumentos esperados\n",
        "\n",
        "  match hielo:\n",
        "    case True:\n",
        "      aux2 = \"con hielo\"\n",
        "    case _:\n",
        "      aux2 = \"sin hielo\"\n",
        "\n",
        "  match azucar:\n",
        "    case True:\n",
        "      aux1 = \"con azúcar\"\n",
        "    case _:\n",
        "      aux1 = \"sin azúcar\"\n",
        "\n",
        "  bebida = f'Jugo de {fruta} en {liquido}, {aux1} y {aux2}'\n",
        "\n",
        "  return bebida   #return esperado\n",
        "\n",
        "print(licuadora('fresa','leche', True, False))"
      ],
      "metadata": {
        "id": "lm193Zb4VHw1"
      },
      "execution_count": null,
      "outputs": []
    },
    {
      "cell_type": "code",
      "source": [
        "def licuadora(fruta, liquido, hielo, azucar): #Funcion y argumentos esperados\n",
        "\n",
        "  aux1 = \"con azúcar\" if azucar else \"sin azúcar\"\n",
        "  aux2 = \"con hielo\" if azucar else \"sin hielo\"\n",
        "\n",
        "  bebida = f'Jugo de {fruta} en {liquido}, {aux1} y {aux2}'\n",
        "\n",
        "  return bebida   #return esperado\n",
        "\n",
        "print(licuadora('fresa','leche', True, False))"
      ],
      "metadata": {
        "id": "SGfTbogWvl1M"
      },
      "execution_count": null,
      "outputs": []
    },
    {
      "cell_type": "code",
      "source": [
        "def licuadora(fruta, liquido, hielo, azucar): #Funcion y argumentos esperados\n",
        "\n",
        "  aux2 = {\n",
        "      1:\"con hielo\",\n",
        "      0:\"sin hielo\"\n",
        "  }\n",
        "\n",
        "  aux1 = {\n",
        "      1:\"con azúcar\",\n",
        "      0:\"sin azúcar\"\n",
        "  }\n",
        "\n",
        "  bebida = f'Jugo de {fruta} en {liquido}, {aux1[int(azucar)]} y {aux2[int(hielo)]}'\n",
        "\n",
        "  return bebida   #return esperado\n",
        "\n",
        "print(licuadora('fresa','leche', True, False))"
      ],
      "metadata": {
        "id": "7jNwDE1QisVo"
      },
      "execution_count": null,
      "outputs": []
    },
    {
      "cell_type": "code",
      "source": [
        "def licuadora(fruta, liquido, hielo, azucar): #Funcion y argumentos esperados\n",
        "\n",
        "  aux2 = {\n",
        "      True:\"con hielo\",\n",
        "      False:\"sin hielo\"\n",
        "  }\n",
        "\n",
        "  aux1 = {\n",
        "      True:\"con azúcar\",\n",
        "      False:\"sin azúcar\"\n",
        "  }\n",
        "\n",
        "  bebida = f'Jugo de {fruta} en {liquido}, {aux1[azucar]} y {aux2[hielo]}'\n",
        "\n",
        "  return bebida   #return esperado\n",
        "\n",
        "print(licuadora('fresa','leche', True, False))"
      ],
      "metadata": {
        "id": "U6L8_-sGppCJ"
      },
      "execution_count": null,
      "outputs": []
    },
    {
      "cell_type": "code",
      "source": [
        "def raiz_potencia(a,b):\n",
        "\n",
        "  funciones = {\n",
        "      0:pow(b,0.5),\n",
        "      1:pow(b,2)\n",
        "  }\n",
        "\n",
        "  return funciones[a]\n",
        "\n",
        "raiz_potencia(1,2)"
      ],
      "metadata": {
        "id": "ZVzLMiTYzxA2"
      },
      "execution_count": null,
      "outputs": []
    },
    {
      "cell_type": "code",
      "source": [
        "def crear_suma():\n",
        "\n",
        "  acumulador = 0\n",
        "\n",
        "  def sumar(numero):\n",
        "\n",
        "    nonlocal acumulador #No puede retornar acumulador porque no es de el, pero lo puede usar porque lo hereda de la función padre\n",
        "    acumulador += numero\n",
        "\n",
        "    return acumulador\n",
        "\n",
        "  return sumar\n",
        "\n",
        "sumador = crear_suma()\n",
        "sumador(0)"
      ],
      "metadata": {
        "id": "mGWL7QoqLanW"
      },
      "execution_count": null,
      "outputs": []
    },
    {
      "cell_type": "code",
      "source": [
        "from statistics import mean\n",
        "\n",
        "EstructuraDeDatos = [\n",
        "    {\n",
        "        'codigo':'00013',\n",
        "        'nombre':'Lorenzo Torres',\n",
        "        'ventas_mes':12000000\n",
        "    },\n",
        "\n",
        "    {\n",
        "        'codigo':'00011',\n",
        "        'nombre':'Claudia Criado',\n",
        "        'ventas_mes':24850000\n",
        "    },\n",
        "\n",
        "    {\n",
        "        'codigo':'00006',\n",
        "        'nombre':'Felix Diaz',\n",
        "        'ventas_mes':12000000\n",
        "    },\n",
        "\n",
        "    {\n",
        "        'codigo':'00214',\n",
        "        'nombre':'Esteban Mendoza',\n",
        "        'ventas_mes':6780000\n",
        "    },\n",
        "\n",
        "    {\n",
        "        'codigo':'00010',\n",
        "        'nombre':'Helena Ruiz',\n",
        "        'ventas_mes':17890000\n",
        "    },\n",
        "\n",
        "    {\n",
        "        'codigo':'00210',\n",
        "        'nombre':'Fabiola Cabarcas',\n",
        "        'ventas_mes':3200500\n",
        "    },\n",
        "\n",
        "    {\n",
        "        'codigo':'01506',\n",
        "        'nombre':'Karla Valle',\n",
        "        'ventas_mes':3200500\n",
        "    }\n",
        "]\n",
        "\n",
        "ventas_codigo = [(EstructuraDeDatos[i]['ventas_mes'],EstructuraDeDatos[i]['codigo']) for i in range(len(EstructuraDeDatos))]\n",
        "ventas_codigo.sort(reverse=1)\n",
        "ventas = [ventas_codigo[i][0] for i in range(len(EstructuraDeDatos))]\n",
        "\n",
        "promedio = round(mean(ventas),2)\n",
        "\n",
        "mejores = {}\n",
        "mejores[1]=[ventas_codigo[i][1] for i in range(ventas.count(ventas[0]))]\n",
        "mejores[2]=[ventas_codigo[i][1] for i in range(ventas.count(ventas[0]), ventas.count(ventas[1])+1)]\n",
        "mejores[3]=[ventas_codigo[i][1] for i in range(ventas.count(ventas[1])+1,ventas.count(ventas[2])+2)]\n",
        "\n",
        "print((promedio,mejores))"
      ],
      "metadata": {
        "id": "8Nbl5NlvqPa_"
      },
      "execution_count": null,
      "outputs": []
    },
    {
      "cell_type": "code",
      "source": [
        "from statistics import mean\n",
        "from heapq import nlargest\n",
        "\n",
        "# EstructuraDeDatos = [\n",
        "#     {\n",
        "#         'codigo':'00013',\n",
        "#         'nombre':'Lorenzo Torres',\n",
        "#         'ventas_mes':12000000\n",
        "#     },\n",
        "\n",
        "#     {\n",
        "#         'codigo':'00011',\n",
        "#         'nombre':'Claudia Criado',\n",
        "#         'ventas_mes':24850000\n",
        "#     },\n",
        "\n",
        "#     {\n",
        "#         'codigo':'00006',\n",
        "#         'nombre':'Felix Diaz',\n",
        "#         'ventas_mes':12000000\n",
        "#     },\n",
        "\n",
        "#     {\n",
        "#         'codigo':'00214',\n",
        "#         'nombre':'Esteban Mendoza',\n",
        "#         'ventas_mes':6780000\n",
        "#     },\n",
        "\n",
        "#     {\n",
        "#         'codigo':'00010',\n",
        "#         'nombre':'Helena Ruiz',\n",
        "#         'ventas_mes':17890000\n",
        "#     },\n",
        "\n",
        "\n",
        "#     {\n",
        "#         'codigo':'00210',\n",
        "#         'nombre':'Fabiola Cabarcas',\n",
        "#         'ventas_mes':3200500\n",
        "#     },\n",
        "\n",
        "#     {\n",
        "#         'codigo':'01506',\n",
        "#         'nombre':'Karla Valle',\n",
        "#         'ventas_mes':3200500\n",
        "#     }\n",
        "# ]\n",
        "\n",
        "# EstructuraDeDatos = [\n",
        "#     {\n",
        "#         'codigo':'00013',\n",
        "#         'nombre':'Lorenzo Torres',\n",
        "#         'ventas_mes':30\n",
        "#     },\n",
        "\n",
        "#     {\n",
        "#         'codigo':'00011',\n",
        "#         'nombre':'Claudia Criado',\n",
        "#         'ventas_mes':20\n",
        "#     },\n",
        "\n",
        "#     {\n",
        "#         'codigo':'00006',\n",
        "#         'nombre':'Felix Diaz',\n",
        "#         'ventas_mes':20\n",
        "#     },\n",
        "\n",
        "#     {\n",
        "#         'codigo':'00214',\n",
        "#         'nombre':'Esteban Mendoza',\n",
        "#         'ventas_mes':20\n",
        "#     },\n",
        "\n",
        "#     {\n",
        "#         'codigo':'00010',\n",
        "#         'nombre':'Helena Ruiz',\n",
        "#         'ventas_mes':10\n",
        "#     },\n",
        "\n",
        "\n",
        "#     {\n",
        "#         'codigo':'00210',\n",
        "#         'nombre':'Fabiola Cabarcas',\n",
        "#         'ventas_mes':10\n",
        "#     },\n",
        "\n",
        "#     {\n",
        "#         'codigo':'01506',\n",
        "#         'nombre':'Karla Valle',\n",
        "#         'ventas_mes':30\n",
        "#     }\n",
        "# ]\n",
        "\n",
        "EstructuraDeDatos=[\n",
        "    {\"codigo\":\"00013\",\"nombre\":\"Lorenzo Torres\",\"ventas_mes\":12000000},\n",
        "    {\"codigo\":\"00011\",\"nombre\":\"Claudia Criado\",\"ventas_mes\":12000000},\n",
        "    {\"codigo\":\"00006\",\"nombre\":\"Felix Diaz\",\"ventas_mes\":12000000},\n",
        "    {\"codigo\":\"00214\",\"nombre\":\"Esteban Mendoza\",\"ventas_mes\":12000000},\n",
        "    {\"codigo\":\"00010\",\"nombre\":\"Helena Ruiz\",\"ventas_mes\":3200500},\n",
        "    {\"codigo\":\"00210\",\"nombre\":\"Fabiola Cabarcas\",\"ventas_mes\":3200500},\n",
        "    {\"codigo\":\"01506\",\"nombre\":\"Karla Valle\",\"ventas_mes\":3200500}\n",
        "    ]\n",
        "\n",
        "ventas_codigo = [(EstructuraDeDatos[i]['ventas_mes'],EstructuraDeDatos[i]['codigo']) for i in range(len(EstructuraDeDatos))]\n",
        "ventas_codigo.sort(reverse=1)\n",
        "ventas = [ventas_codigo[i][0] for i in range(len(EstructuraDeDatos))]\n",
        "\n",
        "promedio = round(mean(ventas),2)\n",
        "\n",
        "mejores_tres = nlargest(3,set(ventas))\n",
        "\n",
        "mejores = {\n",
        "    1:[],\n",
        "    2:[],\n",
        "    3:[]\n",
        "}\n",
        "\n",
        "for i,j in ventas_codigo:\n",
        "  if i == mejores_tres[0]:\n",
        "    mejores[1].append(j)\n",
        "\n",
        "  elif i == mejores_tres[1]:\n",
        "    mejores[2].append(j)\n",
        "\n",
        "  elif i == mejores_tres[2]:\n",
        "    mejores[3].append(j)\n",
        "\n",
        "print((promedio,mejores))"
      ],
      "metadata": {
        "id": "3VlOsNVwnFZk"
      },
      "execution_count": null,
      "outputs": []
    },
    {
      "cell_type": "code",
      "source": [
        "nlargest(3,set(ventas))"
      ],
      "metadata": {
        "id": "oVtQOqLnN6Au"
      },
      "execution_count": null,
      "outputs": []
    },
    {
      "cell_type": "code",
      "source": [
        "aux = ventas.count(ventas[0]) + ventas.count(ventas[1]) + ventas.count(ventas[2])\n",
        "mejores = [ventas_codigo[i][1] for i in range(aux)]\n",
        "print(mejores)"
      ],
      "metadata": {
        "id": "fGB0mC7bJosp"
      },
      "execution_count": null,
      "outputs": []
    },
    {
      "cell_type": "code",
      "source": [
        "import numpy as np\n",
        "import pandas as pd\n",
        "\n",
        "# EstructuraDeDatos = [\n",
        "#     {\n",
        "#         'codigo':'00013',\n",
        "#         'nombre':'Lorenzo Torres',\n",
        "#         'ventas_mes':12000000\n",
        "#     },\n",
        "\n",
        "#     {\n",
        "#         'codigo':'00011',\n",
        "#         'nombre':'Claudia Criado',\n",
        "#         'ventas_mes':24850000\n",
        "#     },\n",
        "\n",
        "#     {\n",
        "#         'codigo':'00006',\n",
        "#         'nombre':'Felix Diaz',\n",
        "#         'ventas_mes':12000000\n",
        "#     },\n",
        "\n",
        "#     {\n",
        "#         'codigo':'00214',\n",
        "#         'nombre':'Esteban Mendoza',\n",
        "#         'ventas_mes':6780000\n",
        "#     },\n",
        "\n",
        "#     {\n",
        "#         'codigo':'00010',\n",
        "#         'nombre':'Helena Ruiz',\n",
        "#         'ventas_mes':17890000\n",
        "#     },\n",
        "\n",
        "#     {\n",
        "#         'codigo':'00210',\n",
        "#         'nombre':'Fabiola Cabarcas',\n",
        "#         'ventas_mes':3200500\n",
        "#     },\n",
        "\n",
        "#     {\n",
        "#         'codigo':'01506',\n",
        "#         'nombre':'Karla Valle',\n",
        "#         'ventas_mes':3200500\n",
        "#     }\n",
        "# ]\n",
        "\n",
        "# EstructuraDeDatos = [\n",
        "#     {\n",
        "#         'codigo':'00013',\n",
        "#         'nombre':'Lorenzo Torres',\n",
        "#         'ventas_mes':30\n",
        "#     },\n",
        "\n",
        "#     {\n",
        "#         'codigo':'00011',\n",
        "#         'nombre':'Claudia Criado',\n",
        "#         'ventas_mes':20\n",
        "#     },\n",
        "\n",
        "#     {\n",
        "#         'codigo':'00006',\n",
        "#         'nombre':'Felix Diaz',\n",
        "#         'ventas_mes':20\n",
        "#     },\n",
        "\n",
        "#     {\n",
        "#         'codigo':'00214',\n",
        "#         'nombre':'Esteban Mendoza',\n",
        "#         'ventas_mes':20\n",
        "#     },\n",
        "\n",
        "#     {\n",
        "#         'codigo':'00010',\n",
        "#         'nombre':'Helena Ruiz',\n",
        "#         'ventas_mes':10\n",
        "#     },\n",
        "\n",
        "\n",
        "#     {\n",
        "#         'codigo':'00210',\n",
        "#         'nombre':'Fabiola Cabarcas',\n",
        "#         'ventas_mes':10\n",
        "#     },\n",
        "\n",
        "#     {\n",
        "#         'codigo':'01506',\n",
        "#         'nombre':'Karla Valle',\n",
        "#         'ventas_mes':30\n",
        "#     }\n",
        "# ]\n",
        "\n",
        "EstructuraDeDatos=[\n",
        "    {\"codigo\":\"00013\",\"nombre\":\"Lorenzo Torres\",\"ventas_mes\":12000000},\n",
        "    {\"codigo\":\"00011\",\"nombre\":\"Claudia Criado\",\"ventas_mes\":12000000},\n",
        "    {\"codigo\":\"00006\",\"nombre\":\"Felix Diaz\",\"ventas_mes\":12000000},\n",
        "    {\"codigo\":\"00214\",\"nombre\":\"Esteban Mendoza\",\"ventas_mes\":12000000},\n",
        "    {\"codigo\":\"00010\",\"nombre\":\"Helena Ruiz\",\"ventas_mes\":3200500},\n",
        "    {\"codigo\":\"00210\",\"nombre\":\"Fabiola Cabarcas\",\"ventas_mes\":3200500},\n",
        "    {\"codigo\":\"01506\",\"nombre\":\"Karla Valle\",\"ventas_mes\":3200500}\n",
        "    ]\n",
        "\n",
        "ventas_df = pd.DataFrame(EstructuraDeDatos)\n",
        "ventas_ordenado_df = ventas_df.sort_values('ventas_mes', ascending=0)\n",
        "ventas_ordenado_df = ventas_ordenado_df.reset_index(drop=1)\n",
        "\n",
        "promedio = ventas_ordenado_df.ventas_mes.mean().round(2)\n",
        "\n",
        "mejores_tres = ventas_ordenado_df.ventas_mes.unique()[0:3]\n",
        "mejores_df = ventas_ordenado_df[ventas_ordenado_df.ventas_mes.isin(mejores_tres)]\n",
        "\n",
        "mejores = {\n",
        "    1:[],\n",
        "    2:[],\n",
        "    3:[]\n",
        "}\n",
        "\n",
        "mejores[1] = list(mejores_df.codigo[mejores_df.ventas_mes == mejores_tres[0]])\n",
        "mejores[2] = list(mejores_df.codigo[mejores_df.ventas_mes == mejores_tres[1]] if len(mejores_tres) > 1 else [])\n",
        "mejores[3] = list(mejores_df.codigo[mejores_df.ventas_mes == mejores_tres[2]] if len(mejores_tres) > 2 else [])\n",
        "\n",
        "print((promedio,mejores))"
      ],
      "metadata": {
        "id": "0nOQArUJfuQI"
      },
      "execution_count": null,
      "outputs": []
    },
    {
      "cell_type": "code",
      "source": [
        "list(enumerate(['a','b','c','d','e','f','g']))"
      ],
      "metadata": {
        "id": "bH4dmP7hiDNw"
      },
      "execution_count": null,
      "outputs": []
    },
    {
      "cell_type": "code",
      "source": [
        "mejores_df[mejores_df.columns[0:2]]"
      ],
      "metadata": {
        "id": "Emvc7AgEM3pd"
      },
      "execution_count": null,
      "outputs": []
    },
    {
      "cell_type": "code",
      "source": [
        "num1 = 13.87\n",
        "print(type(round(num1)))\n",
        "print(type(int(num1)))"
      ],
      "metadata": {
        "id": "pjUNcwOZtdTU"
      },
      "execution_count": null,
      "outputs": []
    },
    {
      "cell_type": "code",
      "source": [
        "mi_dic = {\n",
        "    \"nombre\":\"Karen\",\n",
        "    \"apellido\":\"Jurgens\",\n",
        "    \"edad\":35,\n",
        "    \"ocupacion\":\"Periodista\"\n",
        "}\n",
        "mi_dic.update([('pais','Colombia'),('genero','femenino')])\n",
        "mi_dic.items()"
      ],
      "metadata": {
        "id": "wIRpzEExPbA6"
      },
      "execution_count": null,
      "outputs": []
    },
    {
      "cell_type": "code",
      "source": [
        "sorteo = {\"Camila\", \"Margarita\", \"Axel\", \"Jorge\", \"Miguel\", \"Mónica\"}\n",
        "print(sorteo)\n",
        "sorteo.pop()\n",
        "print(sorteo)"
      ],
      "metadata": {
        "id": "85qqLBUnZ5Em"
      },
      "execution_count": null,
      "outputs": []
    },
    {
      "cell_type": "code",
      "source": [
        "texto = input('Ingrse un texto:\\n').strip().lower()\n",
        "letras = list(input('Ingrese tres letras:\\n').lower().split(','))\n",
        "\n",
        "respuesta = {\n",
        "    'conteo_letra_1': texto.count(letras[0]),\n",
        "    'conteo_letra_2': texto.count(letras[1]),\n",
        "    'conteo_letra_3': texto.count(letras[2]),\n",
        "    'conteo_de_palabras': f'{len(texto.split())} palabras',\n",
        "    'primera_letra':texto[0],\n",
        "    'ultima_letra':texto[-1],\n",
        "    'texto:invertido':' '.join(texto.split()[::-1]),\n",
        "    'pyton?': 'python' in texto\n",
        "}\n",
        "\n",
        "print(respuesta)"
      ],
      "metadata": {
        "id": "ElN9G_3Vc4-r"
      },
      "execution_count": null,
      "outputs": []
    },
    {
      "cell_type": "code",
      "source": [
        "# %% Problema: Disco duro\n",
        "tamaño = float(input())\n",
        "\n",
        "# Cálculo de la capacidad (~ 3 líneas).\n",
        "capacidad = 1\n",
        "\n",
        "while tamaño > capacidad:\n",
        "    capacidad *=2\n",
        "\n",
        "# Salida del programa (~ 1 línea).\n",
        "print(f'La capacidad requerida es de {capacidad} GB.')"
      ],
      "metadata": {
        "id": "Ak5W_l0NPgjE"
      },
      "execution_count": null,
      "outputs": []
    },
    {
      "cell_type": "code",
      "source": [
        "valores = [1, 2, 3, 4, 5, 6, 9.5]\n",
        "valores_pares = [i for i in valores if i % 2 == 0]\n",
        "print(valores)\n",
        "print(valores_pares)"
      ],
      "metadata": {
        "id": "fefBfewGXfuJ"
      },
      "execution_count": null,
      "outputs": []
    },
    {
      "cell_type": "code",
      "source": [
        "import random as rnd\n",
        "\n",
        "nombre = input(f'¡HOLA JUGEMOS!\\n\\n¿Como se llamas?\\n')\n",
        "print(\n",
        "    f'''\\nBueno, {nombre}, he pensado un número entre 1 y 100, y tienes solo\n",
        "ocho (8) intentos para adivinar cuál crees que es el número.\\n'''\n",
        ")\n",
        "\n",
        "numero_pc = rnd.randint(0,100)\n",
        "\n",
        "for intento in range(1,9):\n",
        "  print(f'\\033[1mIntento numero: {intento}/8. \\033[0m')\n",
        "  numero_usuario = int(input('Ingresa un numero dentro del intervalo [0,100].\\n'))\n",
        "\n",
        "  if (numero_usuario < 0) or (numero_usuario >100):\n",
        "    print(f'Valor ingresado fuera de rango.\\n{\"-\"*40}\\n\\n')\n",
        "  elif numero_usuario < numero_pc:\n",
        "    print(f'Tu numero es \\033[1m MENOR \\033[0m que el que pensé.\\n{\"-\"*40}',end='\\n\\n')\n",
        "  elif numero_usuario > numero_pc:\n",
        "    print(f'Tu numero es \\033[1m MAYOR \\033[0m que el que pensé.\\n{\"-\"*40}',end='\\n\\n')\n",
        "  elif numero_usuario == numero_pc:\n",
        "    print(f'\\n\\033[1m¡FELICITACIONES {nombre.upper()}, GANASTE! \\033[0m\\nGanaste en el intento numero {intento}.')\n",
        "    break\n",
        "\n",
        "if numero_usuario != numero_pc:\n",
        "  print(f'\\033[1mFIN DEL JUEGO \\033[0m\\nEl numero secreto era: {numero_pc}')"
      ],
      "metadata": {
        "id": "fVE6CKBsmh_k"
      },
      "execution_count": null,
      "outputs": []
    },
    {
      "cell_type": "code",
      "source": [
        "list(range(10,0,-1))"
      ],
      "metadata": {
        "id": "aYsK47H6EQ34"
      },
      "execution_count": null,
      "outputs": []
    },
    {
      "cell_type": "code",
      "source": [
        "1 <= 20 <= 20"
      ],
      "metadata": {
        "id": "BjOZs9P3RtPm"
      },
      "execution_count": null,
      "outputs": []
    },
    {
      "cell_type": "code",
      "source": [
        "list(range(3,0,-1))"
      ],
      "metadata": {
        "id": "nm3e13e2HcXP"
      },
      "execution_count": null,
      "outputs": []
    },
    {
      "cell_type": "code",
      "source": [
        "def cantidad_pares(lista_numeros):\n",
        "\n",
        "    pares=[i for i in lista_numeros if i % 2 == 0]\n",
        "\n",
        "    return len(pares)\n",
        "\n",
        "cantidad_pares(lista_numeros=list(range(2,11,2)))"
      ],
      "metadata": {
        "id": "VDt66oq_6wn9"
      },
      "execution_count": null,
      "outputs": []
    },
    {
      "cell_type": "code",
      "source": [
        "import random as rnd\n",
        "\n",
        "def lanzar_dados():\n",
        "  return rnd.randint(1,6),rnd.randint(1,6)\n",
        "\n",
        "def evaluar_jugada(a,b):\n",
        "\n",
        "  suma_dados = a+b\n",
        "\n",
        "  if suma_dados <=6:\n",
        "    return f\"La suma de tus dados es {suma_dados}. Lamentable\"\n",
        "\n",
        "  elif 6 < suma_dados < 10:\n",
        "    return f\"La suma de tus dados es {suma_dados}. Tienes buenas chances\"\n",
        "\n",
        "  elif suma_dados >= 10:\n",
        "    return f\"La suma de tus dados es {suma_dados}. Parece una jugada ganadora\"\n",
        "\n",
        "a,b = lanzar_dados()\n",
        "\n",
        "evaluar_jugada(a,b)"
      ],
      "metadata": {
        "id": "Gfn7hYg6ucta"
      },
      "execution_count": null,
      "outputs": []
    },
    {
      "cell_type": "code",
      "source": [
        "def reducir_lista(lista):\n",
        "   lista = list(set(lista))\n",
        "   lista.pop()\n",
        "   return lista\n",
        "\n",
        "reducir_lista([randint(0,5) for i in range(10)])"
      ],
      "metadata": {
        "id": "nxt5SSSM0WVD"
      },
      "execution_count": null,
      "outputs": []
    },
    {
      "cell_type": "code",
      "source": [
        "from random import randint\n",
        "lista = [randint(0,5) for i in range(10)]\n",
        "print(lista)\n",
        "lista = list(set(lista))\n",
        "print(lista)\n",
        "lista.pop()\n",
        "print(lista)"
      ],
      "metadata": {
        "id": "yGQN2uJZ0cLH"
      },
      "execution_count": null,
      "outputs": []
    },
    {
      "cell_type": "code",
      "source": [
        "from random import randint\n",
        "\n",
        "def lanzar_moneda():\n",
        "\n",
        "  cara_cruz = randint(0,1)\n",
        "\n",
        "  moneda = {\n",
        "      0:'Cara',\n",
        "      1:'Cruz'\n",
        "  }\n",
        "\n",
        "  return moneda[cara_cruz]\n",
        "\n",
        "\n",
        "def probar_suerte(lanzar_moneda,lista_numeros):\n",
        "  match lanzar_moneda:\n",
        "    case 'Cara':\n",
        "       print(\"La lista se autodestruirá\")\n",
        "       lista_numeros = []\n",
        "       return lista_numeros\n",
        "    case 'Cruz':\n",
        "       print(\"La lista fue salvada\")\n",
        "       return lista_numeros\n",
        "\n",
        "lista_numeros = list(range(10))\n",
        "\n",
        "probar_suerte(lanzar_moneda(),lista_numeros)"
      ],
      "metadata": {
        "id": "WlnQ7UFf4Lom"
      },
      "execution_count": null,
      "outputs": []
    },
    {
      "cell_type": "code",
      "source": [
        "def suma_cuadrados(*args):\n",
        "  suma = 0\n",
        "\n",
        "  for arg in args:\n",
        "    suma += arg**2\n",
        "\n",
        "  return suma\n",
        "\n",
        "suma_cuadrados(1,2,3,4,5,6,7,8,9,10)"
      ],
      "metadata": {
        "colab": {
          "base_uri": "https://localhost:8080/"
        },
        "id": "5alebHDipMTA",
        "outputId": "3d62182c-e9ab-45b3-cadd-db8a0dd27e9a"
      },
      "execution_count": null,
      "outputs": [
        {
          "output_type": "execute_result",
          "data": {
            "text/plain": [
              "385"
            ]
          },
          "metadata": {},
          "execution_count": 6
        }
      ]
    },
    {
      "cell_type": "code",
      "source": [
        "def suma_absolutos(*args):\n",
        "  suma = 0\n",
        "\n",
        "  for arg in args:\n",
        "    suma += abs(arg)\n",
        "\n",
        "  return suma"
      ],
      "metadata": {
        "id": "tmakkZyyuzxI"
      },
      "execution_count": null,
      "outputs": []
    },
    {
      "cell_type": "code",
      "source": [
        "def describir_persona(nombre,**kwargs):\n",
        "    print(f'Características de {nombre}:')\n",
        "    for key,value in kwargs.items():\n",
        "      print(f'{key}: {value}')\n",
        "\n",
        "kwargs = {'color_ojos': 'azules','color_pelo': 'rubio'}\n",
        "\n",
        "describir_persona('Pedro', **kwargs)"
      ],
      "metadata": {
        "id": "K0TNYrmPqXV_"
      },
      "execution_count": null,
      "outputs": []
    },
    {
      "cell_type": "code",
      "source": [
        "def devolver_distintos(*args):\n",
        "  suma = sum(args)\n",
        "\n",
        "  if suma > 15:\n",
        "    return max(args)\n",
        "  elif suma < 10:\n",
        "    return min(args)\n",
        "  elif 10 <= suma <= 15:\n",
        "    return list(set(args))[1]\n",
        "\n",
        "args = [10,1,1]\n",
        "\n",
        "devolver_distintos(*args)"
      ],
      "metadata": {
        "id": "9b-b00MW2IRC",
        "colab": {
          "base_uri": "https://localhost:8080/"
        },
        "outputId": "4ce59b3c-35f8-418b-9ba3-811482952c69"
      },
      "execution_count": null,
      "outputs": [
        {
          "output_type": "execute_result",
          "data": {
            "text/plain": [
              "10"
            ]
          },
          "metadata": {},
          "execution_count": 6
        }
      ]
    },
    {
      "cell_type": "code",
      "source": [
        "def sin_reptetir(palabra):\n",
        "  l1 = list(set(palabra))\n",
        "  l1.sort()\n",
        "  return l1\n",
        "\n",
        "sin_reptetir('entretenido')"
      ],
      "metadata": {
        "id": "wuhA6h5h6Iuy"
      },
      "execution_count": null,
      "outputs": []
    },
    {
      "cell_type": "code",
      "source": [
        "def ceros_consecutivos(*args):\n",
        "  try:\n",
        "    i = args.index(0)\n",
        "    return True if (args[i+1] == 0) or (args[i-1] == 0) else False\n",
        "\n",
        "  except:\n",
        "    return False\n",
        "\n",
        "ceros_consecutivos(5,6,1,0,0,9,3,5)\n",
        "ceros_consecutivos(6,0,5,1,0,3,0,1)"
      ],
      "metadata": {
        "id": "XH7NqN5GA03F",
        "colab": {
          "base_uri": "https://localhost:8080/"
        },
        "outputId": "70789d2f-7a39-4529-bfcc-42c72ca0454d"
      },
      "execution_count": null,
      "outputs": [
        {
          "output_type": "execute_result",
          "data": {
            "text/plain": [
              "False"
            ]
          },
          "metadata": {},
          "execution_count": 10
        }
      ]
    },
    {
      "cell_type": "code",
      "source": [
        "def es_primo(numero):\n",
        "  i = 2\n",
        "  primo = True\n",
        "\n",
        "  if (numero != 0) and (numero != 1) and (numero % 2 != 0) and (numero != 2):\n",
        "    while i <= numero**0.5:\n",
        "      if numero % i == 0:\n",
        "        primo = False\n",
        "        break\n",
        "      else:\n",
        "        i+=1\n",
        "  elif numero == 2:\n",
        "    primo = True\n",
        "  else:\n",
        "    primo = False\n",
        "\n",
        "  return primo\n",
        "\n",
        "def contar_primos(n):\n",
        "\n",
        "  contador_primos = 0\n",
        "\n",
        "  for i in range(n+1):\n",
        "    if (es_primo(i)):\n",
        "      contador_primos += 1\n",
        "\n",
        "  return contador_primos\n",
        "\n",
        "print(contar_primos(20), end='\\n\\n')\n",
        "\n",
        "for i in range(21):\n",
        "  print(f'{i}:{es_primo(i)}')"
      ],
      "metadata": {
        "id": "myxm3Y5EBJSi"
      },
      "execution_count": null,
      "outputs": []
    },
    {
      "cell_type": "code",
      "source": [
        "# %% JUEGO DEL AHORCADO\n",
        "\n",
        "# Librerías e importaciones\n",
        "from random import choice # Escoje un elemento al azar de un arreglo\n",
        "from string import ascii_lowercase # String con el alfabeto\n",
        "from IPython.core.display import clear_output # Limpia la consola\n",
        "\n",
        "# Función para el dibujo del ahorcado\n",
        "def ahorcado(vidas:int)->None:\n",
        "\n",
        "  '''\n",
        "  Imprime los diferences estados del ahorcado.\n",
        "  '''\n",
        "\n",
        "  match vidas:\n",
        "    case 6:\n",
        "      print('''   ___\n",
        "  |\n",
        "  |\n",
        "  |\n",
        " _|_\\n''')\n",
        "\n",
        "    case 5:\n",
        "      print('''   ___\n",
        "  |   o\n",
        "  |\n",
        "  |\n",
        " _|_\\n''')\n",
        "\n",
        "    case 4:\n",
        "      print('''   ___\n",
        "  |   o\n",
        "  |   |\n",
        "  |\n",
        " _|_\\n''')\n",
        "\n",
        "    case 3:\n",
        "      print('''    ___\n",
        "   |   o\n",
        "   |  /|\n",
        "   |\n",
        "  _|_\\n''')\n",
        "\n",
        "    case 2:\n",
        "      print('''    ___\n",
        "   |   o\n",
        "   |  /|\\\\\n",
        "   |\n",
        "  _|_\\n''')\n",
        "\n",
        "    case 1:\n",
        "      print('''    ___\n",
        "   |   o\n",
        "   |  /|\\\\\n",
        "   |  /\n",
        "  _|_\\n''')\n",
        "\n",
        "    case 0:\n",
        "      print('''    ___\n",
        "   |   o\n",
        "   |  /|\\\\\n",
        "   |  / \\\\\n",
        "  _|_\\n''')\n",
        "\n",
        "# Función para imprimir los guiones\n",
        "def imprimir_guiones(guiones:list)->None:\n",
        "  '''\n",
        "  Imprime la lista de guiones.\n",
        "  '''\n",
        "\n",
        "  for i in guiones:\n",
        "    print(i, end=' ')\n",
        "\n",
        "# Declaración de variables\n",
        "palabras = (\n",
        "    'hola',\n",
        "    'casa',\n",
        "    'perro',\n",
        "    'python',\n",
        "    'computador',\n",
        "    'alambrada',\n",
        "    'protocolo'\n",
        ")\n",
        "emojies = {\n",
        "    6:'\\U0001F603',\n",
        "    5:'\\U0001F928',\n",
        "    4:'\\U0001F605',\n",
        "    3:'\\U0001F643',\n",
        "    2:'\\U0001F915',\n",
        "    1:'\\U0001F976',\n",
        "    0:'\\U0001F480'\n",
        "}\n",
        "palabra_secreta = choice(palabras)\n",
        "guiones = list('_'*len(palabra_secreta))\n",
        "indices = []\n",
        "vidas = 6\n",
        "letra_valida = False\n",
        "\n",
        "# Imprimir el mensaje de bienvenida\n",
        "print(f'\\033[1mJUEGO DEL AHORCADO\\033[\\n\\nTe quedan [{vidas}/6] {emojies[vidas]} vidas\\n')\n",
        "ahorcado(vidas)\n",
        "\n",
        "# Imprimir los primeros guiones\n",
        "imprimir_guiones(guiones)\n",
        "\n",
        "# Ciclo While para mantener al juego corriendo mientras el jugados tenga vidas\n",
        "while vidas > 0:\n",
        "\n",
        "  # Verificar que la palabra ya esté completa\n",
        "  if '_' not in guiones:\n",
        "    print('\\n\\n\\U0001F92F ¡Ganaste! \\U0001F973')\n",
        "    break\n",
        "\n",
        "  # Pide la entrada al usuario, si no es valida, la vuelve a pedir\n",
        "  while not letra_valida:\n",
        "    letra_usiario = input('\\n\\nIngresa una letra\\n').lower()\n",
        "\n",
        "    # Si la letra está en el abecedario\n",
        "    if letra_usiario in ascii_lowercase:\n",
        "      clear_output()\n",
        "      letra_valida = True\n",
        "\n",
        "    else:\n",
        "      print('Caracter invalido \\U0001F635')\n",
        "\n",
        "  # Verifica que la letra ingresada esté en la palabra a adivinar\n",
        "  if letra_usiario in palabra_secreta:\n",
        "\n",
        "    # Imprimir numero de vidas y el ahorcado\n",
        "    print(f'\\nTe quedan [{vidas}/6] vidas {emojies[vidas]}\\n')\n",
        "    ahorcado(vidas)\n",
        "\n",
        "    # Buscar las letras repetidas en la palabra secreta\n",
        "    for j in range(len(palabra_secreta)):\n",
        "\n",
        "      # Cambiar los guiones por letras\n",
        "      if palabra_secreta[j] == letra_usiario:\n",
        "        guiones[j] = letra_usiario\n",
        "\n",
        "      # Imprimir los guiones aprovechando este ciclo\n",
        "      print(guiones[j], end=' ')\n",
        "\n",
        "  # Si la letra ingresada no se halla en la palabra secreta\n",
        "  else:\n",
        "    vidas -= 1\n",
        "    ahorcado(vidas)\n",
        "    print(f'\\nLetra equivocada \\U0001F616\\nTe quedan [{vidas}/6] {emojies[vidas]} vidas\\n')\n",
        "\n",
        "    #Imprimir los guiones otra vez\n",
        "    imprimir_guiones(guiones)\n",
        "\n",
        "  letra_valida = False\n",
        "\n",
        "# Si ya no quedan vidas, imrpima los mensajes respectivos\n",
        "if vidas == 0:\n",
        "  print(f'\\n\\nFin del juego\\tPerdiste \\U0001F62D')\n",
        "  print('''    ___\n",
        "   |  \\033[4m o \\033[\n",
        "   |  /|\\\\\n",
        "   |  / \\\\\n",
        "  _|_''')"
      ],
      "metadata": {
        "id": "RB1J9F90zUUT"
      },
      "execution_count": null,
      "outputs": []
    },
    {
      "cell_type": "code",
      "source": [
        "texto = \"Nuevo inicio de sesión\"\n",
        "\n",
        "with open('mi_archivo.txt', 'a') as mi_archivo:\n",
        "    mi_archivo.write(texto)"
      ],
      "metadata": {
        "id": "6UDdHf33oaPJ"
      },
      "execution_count": null,
      "outputs": []
    },
    {
      "cell_type": "code",
      "source": [
        "try:\n",
        "  num1 = int(input('1er valor\\n'))\n",
        "  num2 = int(input('2er valor\\n'))\n",
        "\n",
        "  print(f'{num1}/{num2}={num1 / num2}')\n",
        "\n",
        "except ZeroDivisionError:\n",
        "  print('División entre 0')\n",
        "  print('Digite los valores de nuevo')\n",
        "\n",
        "print('Fin del programa')"
      ],
      "metadata": {
        "id": "Qui_nWiO2q5Z"
      },
      "execution_count": null,
      "outputs": []
    },
    {
      "cell_type": "code",
      "source": [
        "class Perro():\n",
        "\n",
        "    def __init__(self):\n",
        "      pass\n",
        "\n",
        "    def ladrar():\n",
        "        print('Guau!')\n",
        "\n",
        "perro = Perro()\n",
        "Perro.ladrar()"
      ],
      "metadata": {
        "id": "naTwbEjPWhey"
      },
      "execution_count": null,
      "outputs": []
    },
    {
      "cell_type": "code",
      "source": [
        "def hola(nombre:str)->str:\n",
        "  '''\n",
        "  Retorna un saludo a la persona que ingrese su nombre\n",
        "  '''\n",
        "  print(f'Hola {nombre}')\n",
        "\n",
        "hola('Santiago')"
      ],
      "metadata": {
        "id": "t9lyg7T9YzMX"
      },
      "execution_count": null,
      "outputs": []
    },
    {
      "cell_type": "code",
      "source": [
        "class Animal():\n",
        "  def __init__(self,nombre):\n",
        "    self.nombre = nombre\n",
        "\n",
        "  def hablar(self):\n",
        "    print(f'{self.nombre} dice: guau guau')\n",
        "\n",
        "class Perro(Animal):\n",
        "  pass\n",
        "\n",
        "class Gato(Animal):\n",
        "\n",
        "  def hablar(self):\n",
        "    print(f'{self.nombre} dice: miau miau')\n",
        "\n",
        "perro = Perro('Chuby')\n",
        "gato = Gato('Paulina')\n",
        "\n",
        "perro.hablar()\n",
        "gato.hablar()"
      ],
      "metadata": {
        "id": "AIeqpspg47Lt"
      },
      "execution_count": null,
      "outputs": []
    },
    {
      "cell_type": "code",
      "source": [
        "from IPython.core.display import clear_output # Limpia la consola\n",
        "\n",
        "class Persona():\n",
        "\n",
        "  def __init__(self,nombre:str,apellido:str) -> None:\n",
        "\n",
        "    self.nombre = nombre\n",
        "    self.apellido = apellido\n",
        "\n",
        "\n",
        "class Cliente(Persona):\n",
        "\n",
        "  def __init__(self,nombre:str,apellido:str,cuenta:str,balance:float) -> None:\n",
        "\n",
        "    super().__init__(nombre,apellido)\n",
        "    self.__cuenta = cuenta\n",
        "    self.__balance = balance\n",
        "\n",
        "  def __str__(self) -> str:\n",
        "\n",
        "    return f'\\nNombre: {self.nombre}\\nApellido: {self.apellido}\\nNumero de cuenta: {self.__cuenta}\\nSaldo: {self.__balance}'\n",
        "\n",
        "  def __imprimir_saldo(self) -> None:\n",
        "\n",
        "    print(f'\\nSaldo actual:{self.__balance}')\n",
        "\n",
        "  def depositar(self,deposito:float) -> None:\n",
        "\n",
        "    self.__balance += deposito\n",
        "    self.__imprimir_saldo()\n",
        "\n",
        "    print('\\nDeposito exitoso.')\n",
        "\n",
        "  def retirar(self,retiro:float) -> None:\n",
        "\n",
        "    if self.__balance >= retiro:\n",
        "\n",
        "      self.__balance -= retiro\n",
        "      self.__imprimir_saldo()\n",
        "\n",
        "      print('\\nRetiro exitoso.')\n",
        "\n",
        "    else:\n",
        "\n",
        "      print('El monto pedido supera el saldo actual')\n",
        "\n",
        "def crear_cliente() -> Cliente:\n",
        "\n",
        "  nombre = input('Nombre del cliente:\\n')\n",
        "  apellido = input('\\nApellido del cliente:\\n')\n",
        "  cuenta = input('\\nCuenta del cliente:\\n')\n",
        "  balance = float(input('\\nMonto inicial:\\n'))\n",
        "  clear_output()\n",
        "  return Cliente(nombre,apellido,cuenta,balance)\n",
        "\n",
        "def inicio() -> None:\n",
        "\n",
        "  print('Bienvenido a Banca-Rota su banco amigo.\\n\\nLlego el momento de crear un nuevo cliente.\\n')\n",
        "  cliente = crear_cliente()\n",
        "\n",
        "  print('\\nCliente creado\\n')\n",
        "  print(cliente)\n",
        "\n",
        "  while True:\n",
        "    opcion_elegida = input(f'{\"-\"*60}\\nQue desea hacer ?\\n\\n[1]: para realizar un deposito\\n[2]: para realizar un retiro\\n[3]: para salir del programa.\\n\\n')\n",
        "\n",
        "    if opcion_elegida == '1':\n",
        "      clear_output()\n",
        "      cliente.depositar(float(input('\\nIngrese el monto a depositar:\\n')))\n",
        "\n",
        "    elif opcion_elegida == '2':\n",
        "      clear_output()\n",
        "      cliente.retirar(float(input('\\nIngrese el monto a retirar:\\n')))\n",
        "\n",
        "    elif opcion_elegida == '3':\n",
        "      clear_output()\n",
        "      print('Gracias por utlizar Banca-Rota su banco amigo')\n",
        "      break\n",
        "\n",
        "inicio()"
      ],
      "metadata": {
        "id": "ic48PnYPmJOt"
      },
      "execution_count": null,
      "outputs": []
    },
    {
      "cell_type": "code",
      "source": [
        "# %% Bingo\n",
        "\n",
        "# Librerías\n",
        "import numpy as np\n",
        "\n",
        "# Lista de balotas\n",
        "balotas=[\"B1\",\"B2\",\"B3\",\"B4\",\"B5\",\"B6\",\"B7\",\"B8\",\"B9\",\"B10\",\"B11\",\"B12\",\"B13\",\"B14\",\"B15\",\n",
        "         \"I16\",\"I17\",\"I18\",\"I19\",\"I20\",\"I21\",\"I22\",\"I23\",\"I24\",\"I25\",\"I26\",\"I27\",\"I28\",\"I29\",\"I30\"\n",
        "         ,\"N31\",\"N32\",\"N33\",\"N34\",\"N35\",\"N36\",\"N37\",\"N38\",\"N39\",\"N40\",\"N41\",\"N42\",\"N43\",\"N44\",\"N45\"\n",
        "         ,\"G46\",\"G47\",\"G48\",\"G49\",\"G50\",\"G51\",\"G52\",\"G53\",\"G54\",\"G55\",\"G56\",\"G57\",\"G58\",\"G59\",\"G60\",\n",
        "         \"O61\",\"O62\",\"O63\",\"O64\",\"O65\",\"O66\",\"O67\",\"O68\",\"O69\",\"O70\",\"O71\",\"O72\",\"O73\",\"O74\",\"O75\"]\n",
        "\n",
        "# Mezclar la lista de arriba\n",
        "np.random.shuffle(balotas)\n",
        "\n",
        "# Crear un diccionario de contadores inicializados en 0\n",
        "contador = dict(zip('BINGO',np.zeros(len('BINGO'),int)))\n",
        "\n",
        "# Lista para almacenar las valotas minimas para ganar\n",
        "balotas_minimas = []\n",
        "\n",
        "# Recorra la lista de baloras\n",
        "for balota in balotas:\n",
        "\n",
        "  # Verificar si los contadores ya son mayores o iguales a 5\n",
        "  if all(list(contador.values()) >= np.full(len('BINGO'),5)):\n",
        "    break\n",
        "\n",
        "  # Contar las valortas con la B\n",
        "  if 'B' in balota:\n",
        "    contador['B']+=1\n",
        "    balotas_minimas.append(balota)\n",
        "\n",
        "  # Contar las valortas con la I\n",
        "  elif 'I' in balota:\n",
        "    contador['I']+=1\n",
        "    balotas_minimas.append(balota)\n",
        "\n",
        "  # Contar las valortas con la N\n",
        "  elif 'N' in balota:\n",
        "    contador['N']+=1\n",
        "    balotas_minimas.append(balota)\n",
        "\n",
        "  # Contar las valortas con la G\n",
        "  elif 'G' in balota:\n",
        "    contador['G']+=1\n",
        "    balotas_minimas.append(balota)\n",
        "\n",
        "  # # Contar las valortas con la O\n",
        "  elif 'O' in balota:\n",
        "    contador['O']+=1\n",
        "    balotas_minimas.append(balota)\n",
        "\n",
        "# Imprimir algunas variables para verificar el resultado\n",
        "print(f'Balotas: {len(balotas)}\\nBalotas minimas: {len(balotas_minimas)}\\nContadores: {contador}\\nBalotas: {balotas}\\nBalotas minimas: {balotas_minimas}')"
      ],
      "metadata": {
        "id": "3mvSnxefuNnV"
      },
      "execution_count": null,
      "outputs": []
    },
    {
      "cell_type": "code",
      "source": [
        "# %% Codigo Votos 1\n",
        "contador_votos = {\n",
        "    'a':10,\n",
        "    'b':2,\n",
        "    'c':3\n",
        "}\n",
        "ganadores = []\n",
        "\n",
        "for key,value in contador_votos.items():\n",
        "  if value == max(contador_votos.values()):\n",
        "    ganadores.append(key)\n",
        "\n",
        "if len(ganadores) >=2:\n",
        "  print('EMPATE')\n",
        "\n",
        "else:\n",
        "  print(ganadores[0])"
      ],
      "metadata": {
        "id": "UiXXhS4LiZTa"
      },
      "execution_count": null,
      "outputs": []
    },
    {
      "cell_type": "code",
      "source": [
        "# Method 2: re.findall()\n",
        "import re\n",
        "s = 'Diana274'\n",
        "\n",
        "res = tuple(re.findall('(\\d+|[A-Za-z]+)', s))\n",
        "\n",
        "print(res)"
      ],
      "metadata": {
        "id": "4NDqnjbLocyw",
        "colab": {
          "base_uri": "https://localhost:8080/"
        },
        "outputId": "c68cb384-e2fe-47f2-9751-55842cbf93be"
      },
      "execution_count": null,
      "outputs": [
        {
          "output_type": "stream",
          "name": "stdout",
          "text": [
            "('Diana', '274')\n"
          ]
        }
      ]
    },
    {
      "cell_type": "code",
      "source": [
        "class Objeto():\n",
        "  def __init__(self, Px, Py, Vx, Vy):\n",
        "    self.Px = Px\n",
        "    self.Py = Py\n",
        "    self.Vx = Vx\n",
        "    self.Vy = Vy\n",
        "\n",
        "  def tiempo_encuentro(self,Px2,Py2,Vx2,Vy2):\n",
        "\n",
        "    if (abs(Vx2) == abs(self.Vx)) and (abs(Vy2) == abs(self.Vy)):\n",
        "\n",
        "      print('Nunca se encuentran')\n",
        "\n",
        "    else:\n",
        "\n",
        "      t = (Px2 - self.Px)/(self.Vx - Vx2)\n",
        "      x = self.Px + self.Vx*t\n",
        "      y = self.Py + self.Vy*t\n",
        "      print(f'Tiempo de encuentro: {t}\\nPunto de encuentro: P({x},{y})')\n",
        "\n",
        "a = Objeto(0,0,1,1)\n",
        "a.tiempo_encuentro(10,0,0,1)"
      ],
      "metadata": {
        "id": "icWCx_OeSPHb"
      },
      "execution_count": null,
      "outputs": []
    },
    {
      "cell_type": "code",
      "source": [
        "# %% Funcion\n",
        "\n",
        "def encuentro(Px:float, Py:float, Vx:float, Vy:float, Px2:float, Py2:float, Vx2:float, Vy2:float) -> str:\n",
        "\n",
        "  '''Para el desarrollo de este reto, se asume que los cuerpos a modelar\n",
        "   seguirán trayectorias rectas sobre el plano xy.'''\n",
        "\n",
        "  # Si los vectores de velocidad son paralelos, las trayecorias nunca se cruzan\n",
        "  if (abs(Vx2) == abs(Vx)) and (abs(Vy2) == abs(Vy)):\n",
        "\n",
        "    print('Nunca se encuentran')\n",
        "\n",
        "  # Si los vectores no son paralelos, por la condiciones del problema, las trayectorias se deben cruzar en algun punto.\n",
        "  else:\n",
        "    # Calculo del tiempo de encuentro\n",
        "    t = (Px2 - Px)/(Vx - Vx2)\n",
        "\n",
        "    # Calculo de la posición de los cuerpos (Como se van a encontar, en ese punto comparte coordenadas)\n",
        "    x = Px + Vx*t\n",
        "    y = Py + Vy*t\n",
        "    print(f'Tiempo de encuentro: {t}\\nPunto de encuentro: P({x},{y})')\n",
        "\n",
        "#---------------------------------------------------------------------------------------------------------------------------\n",
        "\n",
        "# %% Main\n",
        "\n",
        "'''\n",
        "Este programa no cuenta con esntradas, los parametros deben ser modificados\n",
        "sobre el mismo codigo, más especificamente en las secciones: Cuerpo A, Cuerpo B.\n",
        "'''\n",
        "\n",
        "# Cuerpo A\n",
        "Px = 0; Py = 0 # P(Px,Py): Posición en x y posición en y\n",
        "Vx = 1; Vy = 1 # V(Vx,Vy): Velocidad en x y Velocidad en y\n",
        "\n",
        "# Cuerpo B\n",
        "Px2 = 10; Py2 = 0 # P(Px,Py): Posición en x y posición en y\n",
        "Vx2 = 0; Vy2 = 1 # V(Vx,Vy): Velocidad en x y Velocidad en y\n",
        "\n",
        "# Calculos de posición y tiempo\n",
        "encuentro(Px, Py, Vx, Vy, Px2, Py2, Vx2, Vy2)"
      ],
      "metadata": {
        "id": "QxMZwfuUaTTb"
      },
      "execution_count": null,
      "outputs": []
    },
    {
      "cell_type": "code",
      "source": [
        "#Variables\n",
        "R=[0,0,0,0,1,1,1,1]\n",
        "P=[0,0,1,1,0,0,1,1]\n",
        "Q=[0,1,0,1,0,1,0,1]\n",
        "\n",
        "#Titulos de la tabla\n",
        "print('P\\tQ\\tR\\tPor(Qand(PorR))\\n'+'_'*40)\n",
        "\n",
        "#Imprimir la tabla\n",
        "for i in range(len(P)):\n",
        "   print(f'{P[i]}\\t{Q[i]}\\t{R[i]}\\t\\t{P[i]or(Q[i] and (P[i] or R[i]))}')"
      ],
      "metadata": {
        "id": "4k3wRGSfek89"
      },
      "execution_count": null,
      "outputs": []
    },
    {
      "cell_type": "code",
      "source": [
        "# Entradas\n",
        "N = int(input('Ingrese el valor de N:\\n'))\n",
        "n = abs(N) if N < 0 else N\n",
        "\n",
        "# Deflacación de variavles\n",
        "contar_divisores = 0\n",
        "\n",
        "# Calculo de divisores\n",
        "for i in range(1,n+1):\n",
        "  if n % i == 0:\n",
        "    contar_divisores += 1\n",
        "    print(f'±{i} es divisor')\n",
        "\n",
        "# Salida\n",
        "print(f'{N} tiene {contar_divisores*2} divisores')"
      ],
      "metadata": {
        "id": "CWj9JSMMY5WL"
      },
      "execution_count": null,
      "outputs": []
    },
    {
      "cell_type": "code",
      "source": [
        "# Entradas\n",
        "N = float(input('Ingrese el valor de N:\\n'))\n",
        "\n",
        "# Logica y salida\n",
        "if (-10<= N < -5) or (5 < N <=10):\n",
        "  print(f'{N} ∈ '+ '{[-10,-5)U(5,10]}')\n",
        "else:\n",
        "  print('Fuera de rango')\n",
        "  # print(f'{N}  ∉ '+ '{[-10,-5)U(5,10]}')"
      ],
      "metadata": {
        "id": "a8CbZKPaeBxw"
      },
      "execution_count": null,
      "outputs": []
    },
    {
      "cell_type": "code",
      "source": [
        "#Entradas\n",
        "N = float(input('Ingrese el valor de N:\\n'))\n",
        "\n",
        "# Logica y salida\n",
        "if -5 <= N <=5:\n",
        "  print(f'{N} ∈ '+ '{[-5,5]}')\n",
        "else:\n",
        "  print('Fuera de rango')\n",
        "  # print(f'{N} ∈ '+ '{[-10,-5)U(5,10]}')"
      ],
      "metadata": {
        "id": "DwnoiwF5gh9t"
      },
      "execution_count": null,
      "outputs": []
    }
  ]
}